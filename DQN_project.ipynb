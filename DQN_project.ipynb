{
 "cells": [
  {
   "cell_type": "markdown",
   "metadata": {},
   "source": [
    "<div style=\"border: solid 1px #3b8bed; padding: 5px; border-radius: 8px; margin-top: 8px\">\n",
    "\n",
    "**All my answers/comments are in blue boxes**\n",
    "</div>\n",
    "\n",
    "**You may need to install [OpenCV](https://pypi.python.org/pypi/opencv-python) and [scikit-video](http://www.scikit-video.org/stable/).**"
   ]
  },
  {
   "cell_type": "code",
   "execution_count": 1,
   "metadata": {},
   "outputs": [
    {
     "name": "stderr",
     "output_type": "stream",
     "text": [
      "Using TensorFlow backend.\n"
     ]
    }
   ],
   "source": [
    "import keras\n",
    "import numpy as np\n",
    "import io\n",
    "import base64\n",
    "from IPython.display import HTML\n",
    "import skvideo.io\n",
    "import cv2\n",
    "import json\n",
    "\n",
    "from keras.models import Sequential,model_from_json\n",
    "from keras.layers.core import Dense\n",
    "from keras.optimizers import sgd, adam\n",
    "from keras.layers import Conv2D, MaxPooling2D, Activation, AveragePooling2D,Reshape,BatchNormalization"
   ]
  },
  {
   "cell_type": "markdown",
   "metadata": {},
   "source": [
    "# MiniProject on Deep Reinforcement Learning"
   ]
  },
  {
   "cell_type": "markdown",
   "metadata": {},
   "source": [
    "__Notations__: $E_p$ is the expectation under probability $p$. Please justify each of your answer and widely comment your code."
   ]
  },
  {
   "cell_type": "markdown",
   "metadata": {},
   "source": [
    "# Context"
   ]
  },
  {
   "cell_type": "markdown",
   "metadata": {},
   "source": [
    "In a reinforcement learning algorithm, we modelize each step $t$ as an action $a_t$ obtained from a state $s_t$, i.e. $\\{(a_{t},s_{t})_{t\\leq T}\\}$ having the Markov property. We consider a discount factor $\\gamma \\in [0,1]$ that ensures convergence. The goal is to find among all the policies $\\pi$, one that maximizes the expected reward:\n",
    "\n",
    "\\begin{equation*}\n",
    "R(\\pi)=\\sum_{t\\leq T}E_{p^{\\pi}}[\\gamma^t r(s_{t},a_{t})] \\> ,\n",
    "\\end{equation*}\n",
    "\n",
    "where: \n",
    "\\begin{equation*}p^{\\pi}(a_{0},a_{1},s_{1},...,a_{T},s_{T})=p(a_{0})\\prod_{t=1}^{T}\\pi(a_{t}|s_{t})p(s_{t+1}|s_{t},a_{t}) \\> .\n",
    "\\end{equation*}\n",
    "\n",
    "We note the $Q$-function:\n",
    "\n",
    "\\begin{equation*}Q^\\pi(s,a)=E_{p^{\\pi}}[\\sum_{t\\leq T}\\gamma^{t}r(s_{t},a_{t})|s_{0}=s,a_{0}=a] \\> .\n",
    "\\end{equation*}\n",
    "\n",
    "Thus, the optimal Q function is:\n",
    "\\begin{equation*}\n",
    "Q^*(s,a)=\\max_{\\pi}Q^\\pi(s,a) \\> .\n",
    "\\end{equation*}\n",
    "\n",
    "In this project, we will apply the deep reinforcement learning techniques to a simple game: an agent will have to learn from scratch a policy that will permit it maximizing a reward."
   ]
  },
  {
   "cell_type": "markdown",
   "metadata": {},
   "source": [
    "## The environment, the agent and the game"
   ]
  },
  {
   "cell_type": "markdown",
   "metadata": {},
   "source": [
    "### The environment"
   ]
  },
  {
   "cell_type": "markdown",
   "metadata": {},
   "source": [
    "```Environment``` is an abstract class that represents the states, rewards, and actions to obtain the new state."
   ]
  },
  {
   "cell_type": "code",
   "execution_count": 2,
   "metadata": {},
   "outputs": [],
   "source": [
    "class Environment(object):\n",
    "    def __init__(self):\n",
    "        pass\n",
    "\n",
    "    def act(self, act):\n",
    "        \"\"\"\n",
    "        One can act on the environment and obtain its reaction:\n",
    "        - the new state\n",
    "        - the reward of the new state\n",
    "        - should we continue the game?\n",
    "\n",
    "        :return: state, reward, game_over\n",
    "        \"\"\"\n",
    "        pass\n",
    "\n",
    "\n",
    "    def reset(self):\n",
    "        \"\"\"\n",
    "        Reinitialize the environment to a random state and returns\n",
    "        the original state\n",
    "\n",
    "        :return: state\n",
    "        \"\"\"\n",
    "        pass\n",
    "    \n",
    "    def draw(self):\n",
    "        \"\"\"\n",
    "        Visualize in the console or graphically the current state\n",
    "        \"\"\"\n",
    "        pass"
   ]
  },
  {
   "cell_type": "markdown",
   "metadata": {},
   "source": [
    "The method ```act``` allows to act on the environment at a given state $s_t$ (stored internally), via action $a_t$. The method will return the new state $s_{t+1}$, the reward $r(s_{t},a_{t})$ and determines if $t\\leq T$ (*game_over*).\n",
    "\n",
    "The method ```reset``` simply reinitializes the environment to a random state $s_0$.\n",
    "\n",
    "The method ```draw``` displays the current state $s_t$ (this is useful to check the behavior of the Agent).\n",
    "\n",
    "We modelize $s_t$ as a tensor, while $a_t$ is an integer."
   ]
  },
  {
   "cell_type": "markdown",
   "metadata": {},
   "source": [
    "### The Agent"
   ]
  },
  {
   "cell_type": "markdown",
   "metadata": {},
   "source": [
    "The goal of the ```Agent``` is to interact with the ```Environment``` by proposing actions $a_t$ obtained from a given state $s_t$ to attempt to maximize its __reward__ $r(s_t,a_t)$. We propose the following abstract class:"
   ]
  },
  {
   "cell_type": "code",
   "execution_count": 3,
   "metadata": {},
   "outputs": [],
   "source": [
    "class Agent(object):\n",
    "    def __init__(self, epsilon=0.1, n_action=4):\n",
    "        self.epsilon = epsilon\n",
    "        self.n_action = n_action\n",
    "    \n",
    "    def set_epsilon(self, e):\n",
    "        self.epsilon = e\n",
    "\n",
    "    def act(self,s,train=True):\n",
    "        \"\"\" This function should return the next action to do:\n",
    "        an integer between 0 and 4 (not included) with a random exploration of epsilon\"\"\"\n",
    "        if train:\n",
    "            if np.random.rand() <= self.epsilon:\n",
    "                a = np.random.randint(0, self.n_action, size=1)[0]\n",
    "            else:\n",
    "                a = self.learned_act(s)\n",
    "        else: # in some cases, this can improve the performance.. remove it if poor performances\n",
    "            a = self.learned_act(s)\n",
    "\n",
    "        return a\n",
    "\n",
    "    def learned_act(self,s):\n",
    "        \"\"\" Act via the policy of the agent, from a given state s\n",
    "        it proposes an action a\"\"\"\n",
    "        pass\n",
    "\n",
    "    def reinforce(self, s, n_s, a, r, game_over_):\n",
    "        \"\"\" This function is the core of the learning algorithm. \n",
    "        It takes as an input the current state s_, the next state n_s_\n",
    "        the action a_ used to move from s_ to n_s_ and the reward r_.\n",
    "        \n",
    "        Its goal is to learn a policy.\n",
    "        \"\"\"\n",
    "        pass\n",
    "\n",
    "    def save(self):\n",
    "        \"\"\" This function returns basic stats if applicable: the\n",
    "        loss and/or the model\"\"\"\n",
    "        pass\n",
    "\n",
    "    def load(self):\n",
    "        \"\"\" This function allows to restore a model\"\"\"\n",
    "        pass"
   ]
  },
  {
   "cell_type": "markdown",
   "metadata": {},
   "source": [
    "***\n",
    "__Question 1__:\n",
    "Explain the function act. Why is ```epsilon``` essential?"
   ]
  },
  {
   "cell_type": "markdown",
   "metadata": {},
   "source": [
    "<div style=\"border: solid 1px #3b8bed; padding: 5px; border-radius: 8px; margin-top: 8px\">\n",
    "\n",
    "When `train` is `True`, the function randomly selects one of the two behaviour : \n",
    "- **Exploration** *(with probability `epsilon`)*: the Agent randomly selects an action\n",
    "- **Exploitation** *(with probability $1 - $`epsilon`)*: the Agent selects the best action according to what it learns until now. \n",
    "\n",
    "Thus, `epsilon` is essential because it controls the trade-off between exploration and exploitation\n",
    "\n",
    "\n",
    "\n",
    "When `train` is `False`, exploitation is always chosen.\n",
    "\n",
    "</div>"
   ]
  },
  {
   "cell_type": "markdown",
   "metadata": {},
   "source": [
    "***\n",
    "### The Game"
   ]
  },
  {
   "cell_type": "markdown",
   "metadata": {},
   "source": [
    "The ```Agent``` and the ```Environment``` work in an interlaced way as in the following (take some time to understand this code as it is the core of the project)\n",
    "\n",
    "```python\n",
    "\n",
    "epoch = 300\n",
    "env = Environment()\n",
    "agent = Agent()\n",
    "\n",
    "\n",
    "# Number of won games\n",
    "score = 0\n",
    "loss = 0\n",
    "\n",
    "\n",
    "for e in range(epoch):\n",
    "    # At each epoch, we restart to a fresh game and get the initial state\n",
    "    state = env.reset()\n",
    "    # This assumes that the games will end\n",
    "    game_over = False\n",
    "\n",
    "    win = 0\n",
    "    lose = 0\n",
    "    \n",
    "    while not game_over:\n",
    "        # The agent performs an action\n",
    "        action = agent.act(state)\n",
    "\n",
    "        # Apply an action to the environment, get the next state, the reward\n",
    "        # and if the games end\n",
    "        prev_state = state\n",
    "        state, reward, game_over = env.act(action)\n",
    "\n",
    "        # Update the counters\n",
    "        if reward > 0:\n",
    "            win = win + reward\n",
    "        if reward < 0:\n",
    "            lose = lose -reward\n",
    "\n",
    "        # Apply the reinforcement strategy\n",
    "        loss = agent.reinforce(prev_state, state,  action, reward, game_over)\n",
    "\n",
    "    # Save as a mp4\n",
    "    if e % 10 == 0:\n",
    "        env.draw(e)\n",
    "\n",
    "    # Update stats\n",
    "    score += win-lose\n",
    "\n",
    "    print(\"Epoch {:03d}/{:03d} | Loss {:.4f} | Win/lose count {}/{} ({})\"\n",
    "          .format(e, epoch, loss, win, lose, win-lose))\n",
    "    agent.save()\n",
    "```"
   ]
  },
  {
   "cell_type": "markdown",
   "metadata": {},
   "source": [
    "# The game, *eat cheese*"
   ]
  },
  {
   "cell_type": "markdown",
   "metadata": {},
   "source": [
    "A rat runs on an island and tries to eat as much as possible. The island is subdivided into $N\\times N$ cells, in which there are cheese (+0.5) and poisonous cells (-1). The rat has a visibility of 2 cells (thus it can see $5^2$ cells). The rat is given a time $T$ to accumulate as much food as possible. It can perform 4 actions: going up, down, left, right. \n",
    "\n",
    "The goal is to code an agent to solve this task that will learn by trial and error. We propose the following environment:\n",
    "\n",
    "<div style=\"border: solid 1px #3b8bed; padding: 5px; border-radius: 8px; margin-top: 8px\">\n",
    "\n",
    "I re-factored the `Environment` class so it will be easy to write `EnvironmentExploring`as a sub-class of `Environment`. I did this to avoid too much code redundancy.\n",
    "\n",
    "</div>"
   ]
  },
  {
   "cell_type": "code",
   "execution_count": 4,
   "metadata": {},
   "outputs": [],
   "source": [
    "class Environment(object):\n",
    "    def __init__(self, grid_size=10, max_time=500, temperature=0.1):\n",
    "        grid_size = grid_size+4\n",
    "        self.grid_size = grid_size\n",
    "        self.max_time = max_time\n",
    "        self.temperature = temperature\n",
    "\n",
    "        #board on which one plays\n",
    "        self.board = np.zeros((grid_size,grid_size))\n",
    "        self.position = np.zeros((grid_size,grid_size))\n",
    "\n",
    "        # coordinate of the cat\n",
    "        self.x = 0\n",
    "        self.y = 1\n",
    "\n",
    "        # self time\n",
    "        self.t = 0\n",
    "\n",
    "        self.scale=16\n",
    "\n",
    "        self.to_draw = np.zeros((max_time+2, grid_size*self.scale, grid_size*self.scale, 3))\n",
    "\n",
    "\n",
    "    def draw(self,e):\n",
    "        skvideo.io.vwrite(str(e) + '.mp4', self.to_draw)\n",
    "\n",
    "    def get_frame(self,t):\n",
    "        b = np.zeros((self.grid_size, self.grid_size, 3)) + 128\n",
    "        b[self.board > 0, 0] = 256\n",
    "        b[self.board < 0, 2] = 256\n",
    "        b[self.x, self.y, :]=256\n",
    "        b[-2:, :, :]=0\n",
    "        b[: ,-2:, :]=0\n",
    "        b[:2, :, :]=0\n",
    "        b[:, :2, :]=0\n",
    "        \n",
    "        b = cv2.resize(b, None, fx=self.scale, fy=self.scale, interpolation=cv2.INTER_NEAREST)\n",
    "\n",
    "        self.to_draw[t, :, :, :] = b\n",
    "    \n",
    "    def create_position(self, x=None, y=None):\n",
    "        self.position = np.zeros((self.grid_size, self.grid_size))\n",
    "        self.position[0:2,:]= -1\n",
    "        self.position[:,0:2] = -1\n",
    "        self.position[-2:, :] = -1\n",
    "        self.position[-2:, :] = -1\n",
    "        if(x is not None):\n",
    "            self.position[x, y] = 1\n",
    "            \n",
    "    def move(self, action):\n",
    "        if action == 0:\n",
    "            if self.x == self.grid_size - 3:\n",
    "                self.x = self.x - 1\n",
    "            else:\n",
    "                self.x = self.x + 1\n",
    "        elif action == 1:\n",
    "            if self.x == 2:\n",
    "                self.x = self.x + 1\n",
    "            else:\n",
    "                self.x = self.x - 1\n",
    "        elif action == 2:\n",
    "            if self.y == self.grid_size - 3:\n",
    "                self.y = self.y - 1\n",
    "            else:\n",
    "                self.y = self.y + 1\n",
    "        elif action == 3:\n",
    "            if self.y == 2:\n",
    "                self.y = self.y + 1\n",
    "            else:\n",
    "                self.y = self.y - 1\n",
    "        else:\n",
    "            RuntimeError('Error: action not recognized')\n",
    "            \n",
    "        self.t = self.t + 1\n",
    "        reward = self.board[self.x, self.y]\n",
    "        self.board[self.x, self.y] = 0\n",
    "        game_over = self.t > self.max_time\n",
    "        return reward, game_over\n",
    "\n",
    "    def act(self, action):\n",
    "        \"\"\"This function returns the new state, reward and decides if the\n",
    "        game ends.\"\"\"\n",
    "        self.get_frame(int(self.t))\n",
    "        \n",
    "        self.create_position(self.x, self.y)\n",
    "        reward, game_over = self.move(action)\n",
    "        state = self.create_state(self.board, self.position)\n",
    "        return state, reward, game_over\n",
    "\n",
    "    def create_state(self, *state_grids):\n",
    "        state = np.concatenate([\n",
    "            state_grid.reshape(self.grid_size, self.grid_size,1) \n",
    "            for state_grid in state_grids\n",
    "        ], axis=2)\n",
    "        return state[self.x - 2:self.x + 3, self.y - 2:self.y + 3, :]\n",
    "    \n",
    "    def reset_board(self):\n",
    "        \"\"\"This function resets the board and the agent coordinates\"\"\"\n",
    "        self.x = np.random.randint(3, self.grid_size-3, size=1)[0]\n",
    "        self.y = np.random.randint(3, self.grid_size-3, size=1)[0]\n",
    "        \n",
    "        bonus = 0.5*np.random.binomial(1,self.temperature,size=self.grid_size**2)\n",
    "        bonus = bonus.reshape(self.grid_size,self.grid_size)\n",
    "\n",
    "        malus = -1.0*np.random.binomial(1,self.temperature,size=self.grid_size**2)\n",
    "        malus = malus.reshape(self.grid_size, self.grid_size)\n",
    "\n",
    "        self.to_draw = np.zeros((self.max_time+2, self.grid_size*self.scale, self.grid_size*self.scale, 3))\n",
    "\n",
    "        malus[bonus>0]=0\n",
    "\n",
    "        self.board = bonus + malus\n",
    "        self.board[self.x,self.y] = 0\n",
    "    \n",
    "    def reset(self):\n",
    "        \"\"\"This function resets the game and returns the initial state\"\"\"\n",
    "        self.reset_board()\n",
    "        self.create_position()\n",
    "        self.t = 0\n",
    "        \n",
    "        return self.create_state(self.board, self.position)"
   ]
  },
  {
   "cell_type": "markdown",
   "metadata": {},
   "source": [
    "The following elements are important because they correspond to the hyper parameters for this project:"
   ]
  },
  {
   "cell_type": "code",
   "execution_count": 5,
   "metadata": {},
   "outputs": [],
   "source": [
    "# parameters\n",
    "size = 13\n",
    "T=200\n",
    "temperature = 0.3\n",
    "epochs_train = 5 # set small when debugging\n",
    "epochs_test = 2 # set small when debugging\n",
    "\n",
    "# display videos\n",
    "def display_videos(name):\n",
    "    video = io.open(name, 'r+b').read()\n",
    "    encoded = base64.b64encode(video)\n",
    "    return '''<video alt=\"test\" controls>\n",
    "                <source src=\"data:video/mp4;base64,{0}\" type=\"video/mp4\" />\n",
    "             </video>'''.format(encoded.decode('ascii'))"
   ]
  },
  {
   "cell_type": "markdown",
   "metadata": {},
   "source": [
    "__Question 2__ Explain the use of the arrays ```position``` and ```board```."
   ]
  },
  {
   "cell_type": "markdown",
   "metadata": {},
   "source": [
    "<div style=\"border: solid 1px #3b8bed; padding: 5px; border-radius: 8px; margin-top: 8px\">\n",
    "\n",
    "`position` is a grid with 0 everywhere but -1 on the borders (and 1 where the agent was on the previous turn). I think its purpose is to let the agent understand its position (so it can avoid colliding the borders for example).\n",
    "\n",
    "`board` is a grid of the same size. It contains the rewards of each cell (0 -> nothing, 0.5 -> cheese, -1 -> poison).\n",
    "\n",
    "</div>"
   ]
  },
  {
   "cell_type": "markdown",
   "metadata": {},
   "source": [
    "## Random Agent"
   ]
  },
  {
   "cell_type": "markdown",
   "metadata": {},
   "source": [
    "***\n",
    "__Question 3__ Implement a random Agent (only ```learned_act``` needs to be implemented):"
   ]
  },
  {
   "cell_type": "code",
   "execution_count": 6,
   "metadata": {},
   "outputs": [],
   "source": [
    "class RandomAgent(Agent):\n",
    "    def __init__(self):\n",
    "        super(RandomAgent, self).__init__()\n",
    "        pass\n",
    "    \n",
    "    def learned_act(self, s):\n",
    "        return np.random.randint(0, 4)"
   ]
  },
  {
   "cell_type": "markdown",
   "metadata": {},
   "source": [
    "***\n",
    "***\n",
    "__Question 4__ Visualize the game moves. You need to fill in the following function for the evaluation:"
   ]
  },
  {
   "cell_type": "code",
   "execution_count": 7,
   "metadata": {},
   "outputs": [],
   "source": [
    "def test(agent, env, epochs, prefix='', verbose=1):\n",
    "    \n",
    "    score = 0\n",
    "    \n",
    "    for e in range(1, epochs+1):\n",
    "        # At each epoch, we restart to a fresh game and get the initial state\n",
    "        state = env.reset()\n",
    "        # This assumes that the games will end\n",
    "        game_over = False\n",
    "\n",
    "        win = 0\n",
    "        lose = 0\n",
    "        \n",
    "        while not game_over:\n",
    "            # The agent performs an action\n",
    "            action = agent.act(state, train=False)\n",
    "\n",
    "            # Apply an action to the environment, get the next state, the reward\n",
    "            # and if the games end\n",
    "            prev_state = state\n",
    "            state, reward, game_over = env.act(action)\n",
    "\n",
    "            # Update the counters\n",
    "            if reward > 0:\n",
    "                win = win + reward\n",
    "            if reward < 0:\n",
    "                lose = lose - reward\n",
    "        \n",
    "        # Update stats\n",
    "        score += win - lose\n",
    "        \n",
    "        if(e % verbose == 0):\n",
    "            env.draw(prefix+str(e))\n",
    "            print(\"Win/lose count {}/{}. Average score ({})\"\n",
    "                  .format(win, lose, score/e))\n",
    "    print('Final score: '+str(score/epochs))"
   ]
  },
  {
   "cell_type": "code",
   "execution_count": 8,
   "metadata": {},
   "outputs": [
    {
     "name": "stdout",
     "output_type": "stream",
     "text": [
      "Win/lose count 7.0/9.0. Average score (-5.0)\n",
      "Win/lose count 12.5/6.0. Average score (-3.425)\n",
      "Win/lose count 9.0/8.0. Average score (-3.9166666666666665)\n",
      "Win/lose count 15.0/17.0. Average score (-3.875)\n",
      "Win/lose count 15.5/11.0. Average score (-4.37)\n",
      "Final score: -4.37\n"
     ]
    },
    {
     "data": {
      "text/html": [
       "<video alt=\"test\" controls>\n",
       "                <source src=\"data:video/mp4;base64,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\" type=\"video/mp4\" />\n",
       "             </video>"
      ],
      "text/plain": [
       "<IPython.core.display.HTML object>"
      ]
     },
     "execution_count": 8,
     "metadata": {},
     "output_type": "execute_result"
    }
   ],
   "source": [
    "# Initialize the game\n",
    "env = Environment(grid_size=size, max_time=T, temperature=temperature)\n",
    "\n",
    "# Initialize the agent!\n",
    "agent = RandomAgent()\n",
    "\n",
    "epochs_test = 50\n",
    "test(agent, env, epochs_test, prefix='random', verbose=10)\n",
    "HTML(display_videos(f'random{epochs_test}.mp4'))"
   ]
  },
  {
   "cell_type": "markdown",
   "metadata": {},
   "source": [
    "***\n",
    "## DQN"
   ]
  },
  {
   "cell_type": "markdown",
   "metadata": {},
   "source": [
    "Let us assume here that $T=\\infty$.\n",
    "\n",
    "***\n",
    "__Question 5__ Let $\\pi$ be a policy, show that:\n",
    "\n",
    "\\begin{equation*}\n",
    "Q^{\\pi}(s,a)=E_{(s',a')\\sim p^{\\pi}(.|s,a)}[r(s,a)+\\gamma Q^{\\pi}(s',a')]\n",
    "\\end{equation*}\n",
    "\n",
    "Then, show that for the optimal policy $\\pi^*$ (we assume its existence), the following holds: \n",
    "\n",
    "\\begin{equation*}\n",
    "Q^{*}(s,a)=E_{s'\\sim p(.|s,a)}[r(s,a)+\\gamma\\max_{a'}Q^{*}(s',a')].\n",
    "\\end{equation*}\n",
    "Finally, deduce that a plausible objective is:\n",
    "\n",
    "\\begin{equation*}\n",
    "\\mathcal{L}(\\theta)=E_{s' \\sim p(.|s,a)}\\Vert r+\\gamma\\max_{a'}Q(s',a',\\theta)-Q(s,a,\\theta)\\Vert^{2}.\n",
    "\\end{equation*}\n",
    "\n",
    "\n"
   ]
  },
  {
   "cell_type": "markdown",
   "metadata": {},
   "source": [
    "<div style=\"border: solid 1px #3b8bed; padding: 5px; border-radius: 8px; margin-top: 8px\">\n",
    "\n",
    "We have that : \n",
    "\n",
    "$Q^\\pi(s,a)=E_{p^{\\pi}}[\\sum_{t=0}^{+\\infty}\\gamma^{t}r(s_{t},a_{t})|s_{0}=s,a_{0}=a] $\n",
    "\n",
    "$Q^\\pi(s,a)=E_{p^{\\pi}}[r(s, a) + \\gamma \\sum_{t=0}^{+\\infty}\\gamma^{t}r(s_{t+1},a_{t+1})|s_{0}=s,a_{0}=a] $\n",
    "\n",
    "$Q^\\pi(s,a)=E_{(s',a')\\sim p^{\\pi}(.|s,a)}[r(s, a) + \\gamma E_{p^{\\pi}}[ \\sum_{t=0}^{+\\infty}\\gamma^{t}r(s_{t+1},a_{t+1})|s_{1}=s',a_{1}=a']] $\n",
    "\n",
    "$Q^{\\pi}(s,a)=E_{(s',a')\\sim p^{\\pi}(.|s,a)}[r(s,a)+\\gamma Q^{\\pi}(s',a')]$\n",
    "\n",
    "***\n",
    "\n",
    "The existence of $\\pi^*$, a policy that maximises $Q$ for all $(s, a)$ implies that $\\max_{\\pi} E_{s, a} [Q^\\pi(s, a)] = E_{s, a}[Q^*(s, a)]$. <br>Indeed, by definition of $Q^*$, $\\max_{\\pi} E_{s, a} [Q^\\pi(s, a)] \\leq E_{s, a}[Q^*(s, a)]$. And by taking $\\pi = \\pi^*$, we get $E_{s, a} [Q^\\pi(s, a)] = E_{s, a}[Q^*(s, a)]$.\n",
    "\n",
    "Using this remark : \n",
    "\n",
    "$$\n",
    "\\begin{aligned}\n",
    " Q^*(s, a) & = \\max_\\pi Q^\\pi(s, a) \\\\\n",
    " & = \\max_{\\pi = (\\pi_0, \\pi_1, \\pi')} E_{s' \\sim p(.|s, a), a'\\sim \\pi_1(s')}\\left[r(s, a) + \\gamma Q^{\\pi'}(s', a')\\right] \\\\\n",
    " & = E[r(s, a)] + \\gamma \\max_{\\pi_1, \\pi'} E_{s' \\sim p(.|s, a), a'\\sim \\pi_1(s')}\\left[ Q^{\\pi'}(s', a')\\right] \\\\\n",
    " & = E[r(s, a)] + \\gamma \\max_{\\pi_1} E_{s' \\sim p(.|s, a), a'\\sim \\pi_1(s')}\\left[ Q^{*}(s', a')\\right] & \n",
    " \\text{because } \\pi^* \\text{ exists}\\\\\n",
    " & = E[r(s, a)] + \\gamma \\max_{a'} E_{s' \\sim p(.|s, a)}\\left[ Q^{*}(s', a')\\right] \\\\\n",
    " & = E_{s'\\sim p(.|s,a)}[r(s,a)+\\gamma\\max_{a'}Q^{*}(s',a')].\n",
    "\\end{aligned}\n",
    "$$\n",
    "\n",
    "***\n",
    "\n",
    "Let $\\theta^*$ be an optimal parameter ($Q* = Q(., ., \\theta^*)$. Then $\\mathcal{L}(\\theta^*) = 0$.\n",
    "\n",
    "Plus, if we let $Q'$ be such that $\\forall s,a, \\, Q'(s, a) = E_{s'\\sim p(.|s,a)}[r(s,a)+\\gamma\\max_{a'}Q(s',a')]$ then $Q' \\geq Q$ which is promising. \n",
    "\n",
    "This makes $\\mathcal{L}(\\theta)$ a plausible objective.  \n",
    "\n",
    "</div>"
   ]
  },
  {
   "cell_type": "markdown",
   "metadata": {},
   "source": [
    "***\n",
    "The DQN-learning algorithm relies on these derivations to train the parameters $\\theta$ of a Deep Neural Network:\n",
    "\n",
    "1. At the state $s_t$, select the action $a_t$ with best reward using $Q_t$ and store the results;\n",
    "\n",
    "2. Obtain the new state $s_{t+1}$ from the environment $p$;\n",
    "\n",
    "3. Store $(s_t,a_t,s_{t+1})$;\n",
    "\n",
    "4. Obtain $Q_{t+1}$ by minimizing  $\\mathcal{L}$ from a recovered batch from the previously stored results.\n",
    "\n",
    "***\n",
    "__Question 6__ Implement the class ```Memory``` that stores moves (in a replay buffer) via ```remember``` and provides a ```random_access``` to these. Specify a maximum memory size to avoid side effects. You can for example use a ```list()``` and set by default ```max_memory=100```.\n",
    "\n",
    "<div style=\"border: solid 1px #3b8bed; padding: 5px; border-radius: 8px; margin-top: 8px\">\n",
    "\n",
    "I also implemented a `random_batch` method that will be usefull for the DQN `reinforce` method.\n",
    "</div>"
   ]
  },
  {
   "cell_type": "code",
   "execution_count": 9,
   "metadata": {},
   "outputs": [],
   "source": [
    "class Memory(object):\n",
    "    def __init__(self, max_memory=100):\n",
    "        self.max_memory = max_memory\n",
    "        self.memory = list()\n",
    "\n",
    "    def remember(self, m):\n",
    "        self.memory.append(m)\n",
    "        if(len(self.memory) > self.max_memory):\n",
    "            self.memory.pop(0)\n",
    "\n",
    "    def random_access(self):\n",
    "        i = np.random.randint(0, len(self.memory))\n",
    "        return self.memory[i]\n",
    "    \n",
    "    def random_batch(self, batch_size):\n",
    "        # sample a random batch from the samples in `memory`\n",
    "        # returns 5 ndarrays with shape[0] == batch_size.\n",
    "        state_shape = self.memory[0][0].shape\n",
    "        states = np.zeros((batch_size, *state_shape))\n",
    "        next_states = np.zeros_like(states)\n",
    "        rewards = np.zeros(batch_size)\n",
    "        game_overs = np.zeros(batch_size)\n",
    "        actions = np.zeros(batch_size, dtype=int)\n",
    "        for i in range(batch_size):\n",
    "            s, ns, a, r, game_over = self.random_access()\n",
    "            states[i, :, :, :] = s\n",
    "            next_states[i, :, :, :] = ns\n",
    "            rewards[i] = r\n",
    "            actions[i] = a\n",
    "            if(game_over):\n",
    "                game_overs[i] = 1\n",
    "        return states, next_states, actions, rewards, game_overs"
   ]
  },
  {
   "cell_type": "markdown",
   "metadata": {},
   "source": [
    "***\n",
    "The pipeline we will use for training is given below:"
   ]
  },
  {
   "cell_type": "code",
   "execution_count": 10,
   "metadata": {},
   "outputs": [],
   "source": [
    "def train(agent, env, epoch, prefix='', verbose=1):\n",
    "    score = 0\n",
    "    loss = 0\n",
    "    best_score = -1000\n",
    "\n",
    "    for e in range(1, epoch+1):\n",
    "        # At each epoch, we restart to a fresh game and get the initial state\n",
    "        state = env.reset()\n",
    "        # This assumes that the games will terminate\n",
    "        game_over = False\n",
    "\n",
    "        win = 0\n",
    "        lose = 0\n",
    "\n",
    "        while not game_over:\n",
    "            # The agent performs an action\n",
    "            action = agent.act(state)\n",
    "\n",
    "            # Apply an action to the environment, get the next state, the reward\n",
    "            # and if the games end\n",
    "            prev_state = state\n",
    "            state, reward, game_over = env.act(action)\n",
    "\n",
    "            # Update the counters\n",
    "            if reward > 0:\n",
    "                win = win + reward\n",
    "            if reward < 0:\n",
    "                lose = lose -reward\n",
    "\n",
    "            # Apply the reinforcement strategy\n",
    "            loss = agent.reinforce(prev_state, state,  action, reward, game_over)\n",
    "\n",
    "            \n",
    "        # Update stats\n",
    "        score += win-lose\n",
    "        \n",
    "        # Save as a mp4\n",
    "        if e % verbose == 0:\n",
    "            env.draw(prefix+str(e))\n",
    "            print(\"Epoch {:03d}/{:03d} | Loss {:.4f} | Win/lose count {}/{} | Score {:.2f}\"\n",
    "                  .format(e, epoch, loss, win, lose, score/verbose))\n",
    "            if(score > best_score):\n",
    "                agent.save(name_weights=prefix+'model.h5',name_model=prefix+'model.json')\n",
    "            score = 0"
   ]
  },
  {
   "cell_type": "markdown",
   "metadata": {},
   "source": [
    "***\n",
    "__Question 7__ Implement the DQN training algorithm using a cascade of fully connected layers. You can use different learning rate, batch size or memory size parameters. In particular, the loss might oscillate while the player will start to win the games. You have to find a good criterium."
   ]
  },
  {
   "cell_type": "code",
   "execution_count": 11,
   "metadata": {},
   "outputs": [],
   "source": [
    "class DQN(Agent):\n",
    "    def __init__(self, grid_size, epsilon=0.1, memory_size=100, batch_size=16, n_state=2):\n",
    "        super(DQN, self).__init__(epsilon=epsilon)\n",
    "\n",
    "        # Discount for Q learning\n",
    "        self.discount = 0.99\n",
    "        \n",
    "        self.grid_size = grid_size\n",
    "        \n",
    "        # number of state\n",
    "        self.n_state = n_state\n",
    "\n",
    "        # Memory\n",
    "        self.memory = Memory(memory_size)\n",
    "        \n",
    "        # Batch size when learning\n",
    "        self.batch_size = batch_size\n",
    "\n",
    "    def learned_act(self, s):\n",
    "        return self.model.predict(np.array([s])).argmax()\n",
    "\n",
    "    def reinforce(self, s_, n_s_, a_, r_, game_over_):\n",
    "        # Two steps: first memorize the states, second learn from the pool\n",
    "        self.memory.remember([s_, n_s_, a_, r_, game_over_])\n",
    "        \n",
    "        # First, sample the batch data\n",
    "        states, next_states, actions, rewards, game_overs = self.memory.random_batch(self.batch_size)\n",
    "        \n",
    "        # Then compute target_q (computations are vectorized)\n",
    "        qs = self.model.predict(states)\n",
    "        next_qs = self.model.predict(next_states)\n",
    "        target_q = qs\n",
    "        target_qa = rewards + (1 - game_overs)*self.discount*np.max(next_qs, axis=1)\n",
    "        # Clip the target to avoid exploiding gradients :\n",
    "        target_qa = np.clip(target_qa, -5, 5)\n",
    "        target_q[np.arange(self.batch_size), actions] = target_qa\n",
    "        \n",
    "        input_states = states\n",
    "        l = self.model.train_on_batch(input_states, target_q)\n",
    "        \n",
    "        return l\n",
    "\n",
    "    def save(self,name_weights='model.h5',name_model='model.json'):\n",
    "        self.model.save_weights(name_weights, overwrite=True)\n",
    "        with open(name_model, \"w\") as outfile:\n",
    "            json.dump(self.model.to_json(), outfile)\n",
    "            \n",
    "    def load(self,name_weights='model.h5',name_model='model.json'):\n",
    "        with open(name_model, \"r\") as jfile:\n",
    "            model = model_from_json(json.load(jfile))\n",
    "        model.load_weights(name_weights)\n",
    "        model.compile(\"sgd\", \"mse\")\n",
    "        self.model = model\n",
    "\n",
    "            \n",
    "class DQN_FC(DQN):\n",
    "    def __init__(self, *args, lr=0.1,**kwargs):\n",
    "        super(DQN_FC, self).__init__( *args,**kwargs)\n",
    "        \n",
    "        # NN Model\n",
    "        model = Sequential()\n",
    "        model.add(Reshape((50,), input_shape=(5,5,2)))\n",
    "        model.add(Dense(80, input_dim=50, activation='relu'))\n",
    "        model.add(Dense(30, activation='relu'))\n",
    "        model.add(Dense(4, activation=None))\n",
    "        \n",
    "        model.compile(adam(learning_rate=lr), \"mse\")\n",
    "        self.model = model"
   ]
  },
  {
   "cell_type": "code",
   "execution_count": 12,
   "metadata": {},
   "outputs": [
    {
     "name": "stdout",
     "output_type": "stream",
     "text": [
      "WARNING:tensorflow:From /home/infres/alacote/.local/lib/python3.7/site-packages/tensorflow_core/python/ops/resource_variable_ops.py:1630: calling BaseResourceVariable.__init__ (from tensorflow.python.ops.resource_variable_ops) with constraint is deprecated and will be removed in a future version.\n",
      "Instructions for updating:\n",
      "If using Keras pass *_constraint arguments to layers.\n",
      "WARNING:tensorflow:From /home/infres/alacote/.local/lib/python3.7/site-packages/keras/backend/tensorflow_backend.py:422: The name tf.global_variables is deprecated. Please use tf.compat.v1.global_variables instead.\n",
      "\n",
      "Epoch 010/050 | Loss 0.0060 | Win/lose count 14.0/6.0 | Score 4.20\n",
      "Epoch 020/050 | Loss 0.0080 | Win/lose count 5.5/2.0 | Score 4.45\n",
      "Epoch 030/050 | Loss 0.0017 | Win/lose count 5.0/9.0 | Score 4.30\n",
      "Epoch 040/050 | Loss 0.0031 | Win/lose count 13.0/9.0 | Score 5.95\n",
      "Epoch 050/050 | Loss 0.0036 | Win/lose count 8.5/4.0 | Score 4.05\n"
     ]
    },
    {
     "data": {
      "text/html": [
       "<video alt=\"test\" controls>\n",
       "                <source src=\"data:video/mp4;base64,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\" type=\"video/mp4\" />\n",
       "             </video>"
      ],
      "text/plain": [
       "<IPython.core.display.HTML object>"
      ]
     },
     "execution_count": 12,
     "metadata": {},
     "output_type": "execute_result"
    }
   ],
   "source": [
    "epochs_train = 50\n",
    "\n",
    "env = Environment(grid_size=size, max_time=T, temperature=0.3)\n",
    "agent = DQN_FC(size, lr=0.01, epsilon=0.2, memory_size=2000, batch_size=32)\n",
    "train(agent, env, epochs_train, prefix='fc_train', verbose=10)\n",
    "HTML(display_videos(f'fc_train{epochs_train}.mp4'))"
   ]
  },
  {
   "cell_type": "markdown",
   "metadata": {},
   "source": [
    "***\n",
    "***\n",
    "__Question 8__ Implement the DQN training algorithm using a CNN (for example, 2 convolutional layers and one final fully connected layer)."
   ]
  },
  {
   "cell_type": "code",
   "execution_count": 13,
   "metadata": {},
   "outputs": [],
   "source": [
    "class DQN_CNN(DQN):\n",
    "    def __init__(self, *args, lr=0.1,**kwargs):\n",
    "        super(DQN_CNN, self).__init__(*args,**kwargs)\n",
    "        \n",
    "        model = Sequential()\n",
    "        model.add(Conv2D(4, (3, 3), activation='relu', input_shape=(5, 5, self.n_state)))\n",
    "        #model.add(MaxPooling2D())\n",
    "        model.add(Conv2D(8, (2, 2), activation='relu'))\n",
    "        model.add(Reshape((2*2*8,), input_shape=(2, 2, 8)))\n",
    "        model.add(Dense(4, activation=None))\n",
    "        \n",
    "        model.compile(adam(learning_rate=lr), \"mse\")\n",
    "        self.model = model"
   ]
  },
  {
   "cell_type": "code",
   "execution_count": 14,
   "metadata": {},
   "outputs": [
    {
     "name": "stdout",
     "output_type": "stream",
     "text": [
      "Epoch 010/050 | Loss 0.0093 | Win/lose count 5.0/5.0 | Score 2.05\n",
      "Epoch 020/050 | Loss 0.0076 | Win/lose count 18.5/6.0 | Score 4.30\n",
      "Epoch 030/050 | Loss 0.0041 | Win/lose count 7.0/7.0 | Score 6.90\n",
      "Epoch 040/050 | Loss 0.0159 | Win/lose count 7.0/4.0 | Score 4.45\n",
      "Epoch 050/050 | Loss 0.1599 | Win/lose count 8.0/4.0 | Score 4.50\n"
     ]
    },
    {
     "data": {
      "text/html": [
       "<video alt=\"test\" controls>\n",
       "                <source src=\"data:video/mp4;base64,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\" type=\"video/mp4\" />\n",
       "             </video>"
      ],
      "text/plain": [
       "<IPython.core.display.HTML object>"
      ]
     },
     "execution_count": 14,
     "metadata": {},
     "output_type": "execute_result"
    }
   ],
   "source": [
    "epochs_train = 50\n",
    "env = Environment(grid_size=size, max_time=T, temperature=0.3)\n",
    "agent = DQN_CNN(size, lr=0.005, epsilon=0.2, memory_size=2000, batch_size=32)\n",
    "train(agent, env, epochs_train, prefix='cnn_train', verbose=10)\n",
    "HTML(display_videos(f'cnn_train{epochs_train}.mp4'))"
   ]
  },
  {
   "cell_type": "markdown",
   "metadata": {},
   "source": [
    "***\n",
    "***\n",
    "__Question 9__ Test both algorithms and compare their performances. Which issue(s) do you observe? Observe also different behaviors by changing the temperature."
   ]
  },
  {
   "cell_type": "code",
   "execution_count": 15,
   "metadata": {},
   "outputs": [
    {
     "name": "stdout",
     "output_type": "stream",
     "text": [
      "Test of the CNN\n",
      "Win/lose count 1.0/0. Average score (0.8)\n",
      "Win/lose count 1.5/0. Average score (1.075)\n",
      "Win/lose count 0.5/0. Average score (1.2)\n",
      "Win/lose count 2.0/0. Average score (1.4375)\n",
      "Final score: 1.4375\n",
      "\n",
      "Test of the FC\n",
      "Win/lose count 1.5/3.0. Average score (-0.35)\n",
      "Win/lose count 2.5/1.0. Average score (-0.075)\n",
      "Win/lose count 1.0/5.0. Average score (-0.26666666666666666)\n",
      "Win/lose count 2.0/1.0. Average score (-0.3625)\n",
      "Final score: -0.3625\n"
     ]
    }
   ],
   "source": [
    "epochs_test = 40\n",
    "env = Environment(grid_size=size, max_time=T,temperature=0.3)\n",
    "agent_cnn = DQN_CNN(size, lr=.1, epsilon = 0.6, memory_size=2000, batch_size = 32)\n",
    "agent_cnn.load(name_weights='cnn_trainmodel.h5',name_model='cnn_trainmodel.json')\n",
    "\n",
    "agent_fc = DQN_FC(size, lr=.1, epsilon = 0.1, memory_size=2000, batch_size = 32)\n",
    "agent_cnn.load(name_weights='fc_trainmodel.h5',name_model='fc_trainmodel.json')\n",
    "print('Test of the CNN')\n",
    "test(agent_cnn,env,epochs_test,prefix='cnn_test', verbose=10)\n",
    "print('\\nTest of the FC')\n",
    "test(agent_fc,env,epochs_test,prefix='fc_test', verbose=10)"
   ]
  },
  {
   "cell_type": "code",
   "execution_count": 16,
   "metadata": {},
   "outputs": [
    {
     "data": {
      "text/html": [
       "<video alt=\"test\" controls>\n",
       "                <source src=\"data:video/mp4;base64,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\" type=\"video/mp4\" />\n",
       "             </video>"
      ],
      "text/plain": [
       "<IPython.core.display.HTML object>"
      ]
     },
     "execution_count": 16,
     "metadata": {},
     "output_type": "execute_result"
    }
   ],
   "source": [
    "HTML(display_videos(f'cnn_test{epochs_test}.mp4'))"
   ]
  },
  {
   "cell_type": "code",
   "execution_count": 17,
   "metadata": {},
   "outputs": [
    {
     "data": {
      "text/html": [
       "<video alt=\"test\" controls>\n",
       "                <source src=\"data:video/mp4;base64,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\" type=\"video/mp4\" />\n",
       "             </video>"
      ],
      "text/plain": [
       "<IPython.core.display.HTML object>"
      ]
     },
     "execution_count": 17,
     "metadata": {},
     "output_type": "execute_result"
    }
   ],
   "source": [
    "HTML(display_videos(f'fc_test{epochs_test}.mp4'))"
   ]
  },
  {
   "cell_type": "markdown",
   "metadata": {},
   "source": [
    "<div style=\"border: solid 1px #3b8bed; padding: 5px; border-radius: 8px; margin-top: 8px\">\n",
    "\n",
    "The agent loops after 10/20 moves max. There is a clear lack of exploration. The phenomenon can be observed (more or less strongly) at all temperatures.\n",
    "</div>"
   ]
  },
  {
   "cell_type": "markdown",
   "metadata": {},
   "source": [
    "***\n",
    "\n",
    "The algorithm tends to not explore the map which can be an issue. We propose two ideas in order to encourage exploration:\n",
    "1. Incorporating a decreasing $\\epsilon$-greedy exploration. You can use the method ```set_epsilon```\n",
    "2. Append via the environment a new state that describes if a cell has been visited or not\n",
    "\n",
    "***\n",
    "__Question 10__ Design a new ```train_explore``` function and environment class ```EnvironmentExploring``` to tackle the issue of exploration.\n",
    "\n"
   ]
  },
  {
   "cell_type": "code",
   "execution_count": 18,
   "metadata": {},
   "outputs": [],
   "source": [
    "def train_explore(agent, env, epoch, decrease_factor=0.9, prefix='', verbose=1):\n",
    "    # Number of won games\n",
    "    score = 0\n",
    "    loss = 0\n",
    "    best_score = -1000\n",
    "\n",
    "    for e in range(1, epoch+1):\n",
    "        # At each epoch, we restart to a fresh game and get the initial state\n",
    "        state = env.reset()\n",
    "        # This assumes that the games will terminate\n",
    "        game_over = False\n",
    "\n",
    "        win = 0\n",
    "        lose = 0\n",
    "\n",
    "        while not game_over:\n",
    "            # The agent performs an action\n",
    "            action = agent.act(state)\n",
    "\n",
    "            # Apply an action to the environment, get the next state, the reward\n",
    "            # and if the games end\n",
    "            prev_state = state\n",
    "            state, reward, game_over = env.act(action, train=True)\n",
    "\n",
    "            # Update the counters\n",
    "            if reward > 0:\n",
    "                win = win + reward\n",
    "            if reward < 0:\n",
    "                lose = lose -reward\n",
    "\n",
    "            # Apply the reinforcement strategy\n",
    "            loss = agent.reinforce(prev_state, state,  action, reward, game_over)\n",
    "            \n",
    "        agent.set_epsilon(agent.epsilon * decrease_factor)\n",
    "\n",
    "        # Update stats\n",
    "        score += win-lose\n",
    "        \n",
    "        if(e % verbose == 0):\n",
    "            env.draw(prefix+str(e))\n",
    "            print(\"Epoch {:03d}/{:03d} | Loss {:.4f} | Win/lose {}/{:.1f} | Score {:.2f}\"\n",
    "                  .format(e, epoch, loss, win, lose, score/verbose))\n",
    "            if(score > best_score):\n",
    "                agent.save(name_weights=prefix+'model.h5',name_model=prefix+'model.json')\n",
    "                best_score = score\n",
    "            score = 0\n",
    "\n",
    "class EnvironmentExploring(Environment):\n",
    "    \n",
    "    def __init__(self, grid_size=10, max_time=500, temperature=0.1):\n",
    "        super().__init__(grid_size, max_time, temperature)\n",
    "        \n",
    "    def act(self, action, train=False):\n",
    "        \"\"\"This function returns the new state, reward and decides if the\n",
    "        game ends.\"\"\"\n",
    "\n",
    "        self.get_frame(int(self.t))\n",
    "\n",
    "        self.create_position(self.x, self.y)\n",
    "        reward, game_over = self.move(action)\n",
    "        if(train):\n",
    "            reward -= self.malus_position[self.x, self.y]\n",
    "        self.malus_position[self.x, self.y] = 0.1\n",
    "        state = self.create_state(self.board, self.position, self.malus_position)\n",
    "        return state, reward, game_over\n",
    "    \n",
    "    def reset(self):\n",
    "        \"\"\"This function resets the game and returns the initial state\"\"\"\n",
    "        self.reset_board()\n",
    "        self.create_position()\n",
    "        self.malus_position = np.zeros((self.grid_size, self.grid_size))\n",
    "        self.malus_position[self.x, self.y] = 1\n",
    "        self.t = 0\n",
    "        \n",
    "        return self.create_state(self.board, self.position, self.malus_position)"
   ]
  },
  {
   "cell_type": "code",
   "execution_count": 19,
   "metadata": {},
   "outputs": [
    {
     "name": "stdout",
     "output_type": "stream",
     "text": [
      "Epoch 005/100 | Loss 0.0114 | Win/lose 14.5/18.8 | Score -11.66\n",
      "Epoch 010/100 | Loss 0.0089 | Win/lose 11.0/18.8 | Score -4.58\n",
      "Epoch 015/100 | Loss 0.0157 | Win/lose 22.5/19.0 | Score -4.38\n",
      "Epoch 020/100 | Loss 0.0066 | Win/lose 16.0/18.1 | Score -1.22\n",
      "Epoch 025/100 | Loss 0.0078 | Win/lose 15.5/20.8 | Score -0.88\n",
      "Epoch 030/100 | Loss 0.0183 | Win/lose 10.0/18.4 | Score 2.60\n",
      "Epoch 035/100 | Loss 0.0222 | Win/lose 20.5/16.6 | Score 2.02\n",
      "Epoch 040/100 | Loss 0.0125 | Win/lose 16.0/15.7 | Score -0.26\n",
      "Epoch 045/100 | Loss 0.0189 | Win/lose 16.0/18.5 | Score -0.20\n",
      "Epoch 050/100 | Loss 0.0118 | Win/lose 25.5/11.9 | Score 6.64\n",
      "Epoch 055/100 | Loss 0.0678 | Win/lose 23.0/16.9 | Score 4.50\n",
      "Epoch 060/100 | Loss 0.0151 | Win/lose 12.5/14.6 | Score 1.80\n",
      "Epoch 065/100 | Loss 0.0194 | Win/lose 23.0/13.8 | Score 3.54\n",
      "Epoch 070/100 | Loss 0.0164 | Win/lose 11.0/21.9 | Score -0.80\n",
      "Epoch 075/100 | Loss 0.0210 | Win/lose 24.5/13.7 | Score 1.48\n",
      "Epoch 080/100 | Loss 0.0094 | Win/lose 19.5/20.4 | Score 0.86\n",
      "Epoch 085/100 | Loss 0.0164 | Win/lose 13.5/18.5 | Score 0.58\n",
      "Epoch 090/100 | Loss 0.0149 | Win/lose 21.5/15.2 | Score 6.52\n",
      "Epoch 095/100 | Loss 0.0486 | Win/lose 11.5/15.7 | Score 2.34\n",
      "Epoch 100/100 | Loss 0.0529 | Win/lose 19.5/17.3 | Score 4.72\n"
     ]
    },
    {
     "data": {
      "text/html": [
       "<video alt=\"test\" controls>\n",
       "                <source src=\"data:video/mp4;base64,AAAAIGZ0eXBpc29tAAACAGlzb21pc28yYXZjMW1wNDEAAAAIZnJlZQAAGRJtZGF0AAACrQYF//+p3EXpvebZSLeWLNgg2SPu73gyNjQgLSBjb3JlIDE1MiByMjg1NCBlOWE1OTAzIC0gSC4yNjQvTVBFRy00IEFWQyBjb2RlYyAtIENvcHlsZWZ0IDIwMDMtMjAxNyAtIGh0dHA6Ly93d3cudmlkZW9sYW4ub3JnL3gyNjQuaHRtbCAtIG9wdGlvbnM6IGNhYmFjPTEgcmVmPTMgZGVibG9jaz0xOjA6MCBhbmFseXNlPTB4MToweDExMSBtZT1oZXggc3VibWU9NyBwc3k9MSBwc3lfcmQ9MS4wMDowLjAwIG1peGVkX3JlZj0xIG1lX3JhbmdlPTE2IGNocm9tYV9tZT0xIHRyZWxsaXM9MSA4eDhkY3Q9MCBjcW09MCBkZWFkem9uZT0yMSwxMSBmYXN0X3Bza2lwPTEgY2hyb21hX3FwX29mZnNldD00IHRocmVhZHM9OCBsb29rYWhlYWRfdGhyZWFkcz0xIHNsaWNlZF90aHJlYWRzPTAgbnI9MCBkZWNpbWF0ZT0xIGludGVybGFjZWQ9MCBibHVyYXlfY29tcGF0PTAgY29uc3RyYWluZWRfaW50cmE9MCBiZnJhbWVzPTMgYl9weXJhbWlkPTIgYl9hZGFwdD0xIGJfYmlhcz0wIGRpcmVjdD0xIHdlaWdodGI9MSBvcGVuX2dvcD0wIHdlaWdodHA9MiBrZXlpbnQ9MjUwIGtleWludF9taW49MjUgc2NlbmVjdXQ9NDAgaW50cmFfcmVmcmVzaD0wIHJjX2xvb2thaGVhZD00MCByYz1jcmYgbWJ0cmVlPTEgY3JmPTIzLjAgcWNvbXA9MC42MCBxcG1pbj0wIHFwbWF4PTY5IHFwc3RlcD00IGlwX3JhdGlvPTEuNDAgYXE9MToxLjAwAIAAAALcZYiEADf//vaH+BTZWBP+Wb/9DX/cj9uPrP1xYyEE31qvIejAGS+1H+b/rFFs6Z6UB/fgCJQAc24ZwpHZJ3jjgNSrIMcHwKauk6vwKShNt/ojJP8GdskWRvSkRgUg1ECsUoDWjKrcn8czudw7oTt7VpsKu8PQe6GxE7dKjQZwTExskd++3pxIogQuZEH5+nanRC6igRAUyFngc8zIMcJ3caORGx1YRFqMe0wCm0yT6vFtl/GZj4pddv/KLgcWiYkUh8KUtuXf+USZ5oSGTZT4wu/mGjVNamSIl19+ehl3gX/m6tsLVFP45EZqWduXNZNWD51mCdpugbgptO/xS3ks7vPzBmAw1bcwS5MjbTFWvDALcy9RMtOJY7XvExKGnpKoHxZvMKlVjZMU/IMSchHJ9SFALfZHdxduHECk8w/4UN7Lre7+4jPekpF/cvoEjnDPUl7LWfB37SepZhmw83OmEp0mmNZvBEFlIkjmiZGGHPJYos/ueLt3fWS/Ak0lY0cqDed1e1ymYKHpUaBbe1Ni6YmSLbPsBUeZxbKCaTAJv0buXR04u02iWXePHerhxbs6sWhIK0uF8xvuL0bkfW7wx5aAvP2MCEJjmn5qXB552LOhQRzDSMYCnvjQChhF4788+YnfEmIDsH7MrHXh3VUCaygVIMXfGoSrqKOC+4iP15Wl8kA7cz3aPidvQBF9yUNAfOY8O8fdGQR9DgRQN9qtdpGs4BSdw5ne3c602reKMMvUvGXAmh5TA0bqfkjUmTsUd1HuFcIWGqjADQMUHxuQowtJIn1gAyyaEwsuEBsH89ORoEhDSGcILBJ7Ywik0ZtU+iKMLknEOT8HkTly9PFevuDzWmTe0QxG3kDEADrpBBxlAA8wYuQHAAf6PMqX9FhMFinzfIOFxByxJE5+ivmWfQvWNJvGpCTgQEaCF5Aq9SncvnMutM/6zcpicf06dBGQtshNbvgMwaHgACRhAAAAG0GaJGxDf/6nhAGdwceYbQeY/NZtLlMuy6L0vAAAAA9BnkJ4hf8A532hQyo8qYEAAAAQAZ5hdEK/AT+0d5Wyh6ONgAAAAA8BnmNqQr8Ay2cm6z1Z6YsAAAAZQZpnSahBaJlMCGf//p4QA8vr7u05u4trjwAAAA9BnoVFESwr/wDNkaBrUEEAAAANAZ6makK/AM3YkW9agwAAABlBmqhJqEFsmUwIZ//+nhADtevv5EiPrCHHAAAAGEGayUnhClJlMCGf/p4QAm3xD+2Qx9YRZQAAABhBmupJ4Q6JlMCG//6nhABnfYPXsz4Ir1MAAAAdQZsMSeEPJlMFETw3//6nhABk/YP8tdLc4JonyzQAAAAQAZ8rakK/AFHbcirwBP76gAAAAChBmy5J4Q8mUwU8M//+nhAArXvDXOBTZPt/mWTBwHmVvxdg7zH2f7FhAAAAEAGfTWpCvwAjuxHkuZ8lfIEAAAAZQZtPSeEPJlMCG//+p4QALH8afuZFCQ5LwQAAAB5Bm3FJ4Q8mUwURPDP//p4QAHG9ffpten1yN2bFbZgAAAAQAZ+QakK/ABfmbmuPFW1SoAAAABlBm5JJ4Q8mUwIb//6nhAAS746fUcaEh1lBAAAAHkGbtEnhDyZTBRE8M//+nhAAMT6+/Ta9Prkbs2K/mAAAABABn9NqQr8ACj0o3mmKttDAAAAAGUGb1UnhDyZTAhv//qeEAAf32D/CcFuheEEAAAAgQZv4SeEPJlMCGf/+nhAAFj94a5wKbS3a+7etur2uzLgAAAASQZ4WRRE8K/8ABJdrg3hss3VdAAAAEAGeN2pCvwAEl2I8lzPlhoEAAAAZQZo5SahBaJlMCGf//p4QABaq9xoXTfdgHAAAABhBmlpJ4QpSZTAhv/6nhAAF9dWkEIn+XGMAAAAZQZp7SeEOiZTAhv/+p4QABh3VpBCJ/lxbgAAAABpBmp9J4Q8mUwIZ//6eEAAYdf6TpFG+c3oCYQAAABZBnr1FETwv/wADtfd1NxxtdkImDLghAAAAEAGe3HRCvwAFHtHeVsofFYAAAAAQAZ7eakK/AAT6yITcZ9ewyAAAABxBmsBJqEFomUwIb//+p4QACWoAs220BgE1/exxAAAAGUGa4UnhClJlMCG//qeEAA55xn+pHRpDi8AAAAAfQZsDSeEOiZTBTRMN//6nhAAWHFbMT/V2+NPzzTWEvQAAABABnyJqQr8AEd2iE3GfXqVoAAAAJ0GbJknhDyZTAhn//p4QAMn8I6vMssYVPzLJg4DzK35FR5sp43YIXQAAABJBn0RFETwr/wAqFkG8BSPr3YkAAAAQAZ9lakK/ACoWPHK/tw/twQAAABpBm2dJqEFomUwIb//+p4QAT30T/Ujo0hqlQQAAAB9Bm4lJ4QpSZTBREsM//p4QAc71y62OGz8Q/m4eXULgAAAAEAGfqGpCvwBiHbhNxn16cDgAAAAZQZuqSeEOiZTAhv/+p4QAuXon+q3zH4hHwQAAABhBm8tJ4Q8mUwIb//6nhAC94rSCET/LbQMAAAAjQZvvSeEPJlMCGf/+nhADI+yCn/vb1tauqmEOBTa3yhyzLYAAAAAWQZ4NRRE8L/8AeZNRN+uNUuQgiSRcsQAAAA8Bnix0Qr8Ao+WDBsxxJcEAAAAQAZ4uakK/AKhSjeaYq2kCwQAAABpBmjBJqEFomUwIb//+p4QAg3x0+o40JDhlQAAAAB1BmlJJ4QpSZTBREsM//p4QAVH3TfYC12TFsFUP4AAAABABnnFqQr8ARWVyKvAE/xuBAAAAGEGac0nhDomUwIZ//p4QAIt8Q863QMkRfAAAAB1BmpVJ4Q8mUwUVPDP//p4QAUcFjoGDP7+CdbcEsAAAABABnrRqQr8AQ3Z45X9uH5HBAAAAGEGatknhDyZTAhn//p4QAfApxz+HOb6zNwAAABhBmtdJ4Q8mUwIZ//6eEAMLIY5/DnN9ZZUAAAAbQZr4SeEPJlMCG//+p4QBNEAWbbaAwHN+6WfBAAAAGUGbGUnhDyZTAhv//qeEATwfMck7jZf/mtAAAAAbQZs9SeEPJlMCG//+p4QCk9g9sgWbYi0vCpZRAAAAEEGfW0URPC//ASaetUPZ0zAAAAAQAZ96dEK/AZOyruQ2VKPh4QAAABABn3xqQr8CkNa7qq89EtaBAAAAHEGbf0moQWiZTBTwz/6eEAkndN7pgjJKtyJyVsAAAAAQAZ+eakK/AYkjtzqmY3ZewAAAABhBm4BJ4QpSZTAhn/6eEAgviHnW6Bg3itkAAAAZQZuhSeEOiZTAhv/+p4QCC+On0dChIUjugAAAAB5Bm8NJ4Q8mUwURPDP//p4QBFfiH8fD5xLuuI+qHz8AAAAQAZ/iakK/AOeC851oYXiLwAAAABlBm+RJ4Q8mUwIb//6nhAC1+6n6jjQkOEnBAAAAHUGaBknhDyZTBRE8M//+nhABxvX39CujZMWwVQgRAAAAEAGeJWpCvwBfiW068AT+3IEAAAAZQZonSeEPJlMCG//+p4QAMT7B/hOC3Ql0wQAAABlBmkhJ4Q8mUwIb//6nhAAfL2D/CcFuhNtAAAAAHkGaaknhDyZTBRE8N//+p4QAFR91Pu83OTwPBukOXgAAABABnolqQr8AENzRvNMVbWtBAAAAHUGajEnhDyZTBTw3//6nhAAN37B/NpdQPDiyFOqWAAAAEAGeq2pCvwALXSjeaYq2yWAAAAAYQZqvSeEPJlMCGf/+nhAAIt8Q/tkMfWKLAAAAEkGezUURPCv/AAdtXBrj3vXrgQAAAA4Bnu5qQr8AB2wZj0RZdwAAABpBmvBJqEFomUwIb//+p4QABdfdT9RxoSIHwAAAABhBmxFJ4QpSZTAhv/6nhAADuewevZnwRo8AAAAiQZs1SeEOiZTAhn/+nhAAM77I6vMss+fbguR+crpOfe6fxQAAABVBn1NFETwv/wAHxTmlWHf0RJL7d2AAAAAQAZ9ydEK/AAR31EifFmKj0AAAABABn3RqQr8ACs2PHK/txD9BAAAAGkGbdkmoQWiZTAhv//6nhAAUb0T/Vb5j8VJAAAAAJkGbmEnhClJlMFESwz/+nhAAv+zJP4hHeL//iEZKj//Zm+vHu5KBAAAAEAGft2pCvwAn1jxyv7cP8sEAAAAYQZu5SeEOiZTAhv/+p4QAMT7B69mfBFhlAAAAHUGb20nhDyZTBRU8N//+p4QAR0fNU1m3Nejn5EIpAAAAEAGf+mpCvwA6DPmN0OSDkHgAAAAYQZv8SeEPJlMCG//+p4QAbmkT/UpAKofBAAAAMEGaAEnhDyZTAhn//p4QA/ezJP4hHRq//4hCQ8Wf/8PmiLP/+IMd38Pj148bcz2HcQAAABFBnj5FETwv/wCfUBq6I14G2AAAAA8Bnl10Qr8AXS0d55xa2YAAAAAQAZ5fakK/ANe7Ucr+3D6HwQAAABlBmkFJqEFomUwIb//+p4QBwXGf6iehDW9AAAAAG0GaYknhClJlMCG//qeEBY9E/09rVQIT+jyHgQAAAB9BmoRJ4Q6JlMFNEw3//qeEBld9nvjIEJ+7OujzRA+YAAAAEAGeo2pCvwIezc1x4M2ZVUEAAAAaQZqoSeEPJlMCGf/+nhAULalS3TfW0v9PIOEAAAARQZ7GRRE8L/8Bh++sQsM5m9kAAAAPAZ7ldEK/AVqMYuA/LPfhAAAAEAGe52pCvwIeCxr3lwKAZ8AAAAAaQZrpSahBaJlMCG///qeEBbONP1xhQkEc6YAAAAAeQZsLSeEKUmUwURLDf/6nhAHG7B/Pg+YXrZihHz3rAAAAEAGfKmpCvwFRa+c60MLw6kAAAAAYQZssSeEOiZTAhv/+p4QA/fsHr2Z8EV0HAAAAHUGbTknhDyZTBRU8N//+p4QA+HsH+cp14Ua3MddNAAAAEAGfbWpCvwDNkdudaGF4lsEAAAAcQZtwSeEPJlMFPDf//qeEAOwDxNcaol+if5DsKQAAABABn49qQr8Aw7twm4z69Ng4AAAAGUGbkUnhDyZTAh3//qmWAHf9peFqCf2AOaAAAAAdQZuzSeEPJlMFETw7//6plgDC2pGZ29X3O1S7EdUAAAAPAZ/SakK/AS7YjyYHr20PAAAAEkGb10nhDyZTAh3//qmWAACVgAAAABNBn/VFETwv/wFRTZ+ZtxOmPnwdAAAAEAGeFHRCvwHSaVi2NlSj3TAAAAAQAZ4WakK/AcYImab6SDiRcQAAABNBmhtJqEFomUwId//+qZYAAJWBAAAAEEGeOUURLC//AVHJbn64iW0AAAAQAZ5YdEK/AcaMyI7FmKNOOQAAABABnlpqQr8BxgiZpvpIOJFwAAAAHUGaXUmoQWyZTBRMO//+qZYAxHjz+RxqdQg3BuuPAAAAEAGefGpCvwEuk+c60MLw9MEAAAASQZphSeEKUmUwId/+qZYAAJWAAAAAE0Gen0U0TC//AIr6CKUjpnLFoIIAAAAQAZ6+dEK/AL6nUnlfkpsw8QAAABABnqBqQr8AvtkQm4z69Nh4AAAAGUGapUmoQWiZTAh3//6plgB1PaX9i1nESjcAAAAQQZ7DRREsL/8AiufucLKCCAAAAA8BnuJ0Qr8Aw7ybzzi0z4EAAAAQAZ7kakK/AL63IYfQEg4qmQAAABlBmulJqEFsmUwId//+qZYAdJdMj++r7tHTAAAAEEGfB0UVLC//AIrQHLyKCCEAAAAQAZ8mdEK/AL7miRPizFGw8AAAAA8BnyhqQr8Aw4LGwOU2qYAAAAAcQZstSahBbJlMCG///qeEAX8+ZqbNti3up8TIOQAAABJBn0tFFSwv/wDcqu720qHke/wAAAAQAZ9qdEK/AL6nUnlfkpsw8AAAABABn2xqQr8BLtnjlf24fOfBAAAAGkGbbkmoQWyZTAh3//6plgDEePP3osOkDathAAAAGEGbkUnhClJlMCHf/qmWAHf9pfzz9NBvQQAAAA9Bn69FNEwr/wDDktZpgcAAAAANAZ/QakK/AMPYsPFMDgAAABNBm9VJqEFomUwId//+qZYAAJWBAAAAE0Gf80URLC//AF0tcZqZllyGhQYAAAAQAZ4SdEK/AHw4nik2yVTUgAAAABABnhRqQr8AfFmDyYHr26SBAAAAHEGaGUmoQWyZTAh3//6plgB0h1CyEm5p6MfpiqYAAAAQQZ43RRUsL/8AitAcvIoIIQAAABABnlZ0Qr8AvuaJE+LMUbDxAAAADwGeWGpCvwDDgsbA5TapgAAAABNBml1JqEFsmUwId//+qZYAAJWBAAAAEUGee0UVLC//AIrxn53kKCCAAAAAEAGemnRCvwC+p1J5X5KbMPEAAAAQAZ6cakK/AL7ZEJuM+vTYeQAAABNBmoFJqEFsmUwId//+qZYAAJWAAAAADEGev0UVLC//AACygAAAABABnt50Qr8Aw7ybo7b4VO6BAAAAEAGewGpCvwC82Ud7PH26q4AAAAATQZrFSahBbJlMCHf//qmWAACVgQAAAAxBnuNFFSwv/wAAsoAAAAAQAZ8CdEK/AMO8m6O2+FTugQAAABABnwRqQr8AvNlHezx9uquBAAAAHEGbCUmoQWyZTAh3//6plgB1PaX9iwHRAtxi+x8AAAAQQZ8nRRUsL/8AiufucLKCCQAAAA8Bn0Z0Qr8Aw7ybzzi0z4AAAAAQAZ9IakK/AL63IYfQEg4qmAAAABNBm01JqEFsmUwId//+qZYAAJWBAAAAEEGfa0UVLC//AIr6CLHAUEEAAAAQAZ+KdEK/AMPZV3IbKlIC4AAAABABn4xqQr8Avrchh9ASDiqZAAAAE0GbkUmoQWyZTAh3//6plgAAlYEAAAAQQZ+vRRUsL/8AivoIscBQQQAAABABn850Qr8Aw9lXchsqUgLgAAAAEAGf0GpCvwC+tyGH0BIOKpgAAAAZQZvVSahBbJlMCHf//qmWAHSXTI/vq+7R0wAAABBBn/NFFSwv/wCK0By8igggAAAAEAGeEnRCvwC+5okT4sxRsPAAAAAPAZ4UakK/AMOCxsDlNqmBAAAAE0GaGUmoQWyZTAh3//6plgAAlYAAAAARQZ43RRUsL/8AivGfneQoIIEAAAAQAZ5WdEK/AL6nUnlfkpsw8QAAABABnlhqQr8Aw4LGveaVm1TAAAAAE0GaXUmoQWyZTAh3//6plgAAlYEAAAAMQZ57RRUsL/8AALKAAAAAEAGemnRCvwC82Ud+AD7dVcEAAAAPAZ6cakK/AMOCxolc8umfAAAAEkGagUmoQWyZTAhv//6nhAABJwAAABRBnr9FFSwv/wCJQweupiHt8ZVltAAAABABnt50Qr8AvqdSeV+SmzDxAAAAEAGewGpCvwC+2RCbjPr02HgAAAAZQZrFSahBbJlMCGf//p4QA4nr7+obaretIQAAABBBnuNFFSwv/wCK5+5wsoIIAAAADwGfAnRCvwDDvJvPOLTPgQAAABABnwRqQr8Avrchh9ASDiqZAAAAGkGbCUuoQhBbJEYIKAfyAf2HgCFf/jhAABFxAAAAJUGfJ0UVLC//AgHc6kvbMwq5gOgatahcFNsXilu9O/jlKM1HVf8AAAAQAZ9GdEK/AL7miRPizFGw8AAAACQBn0hqQr8Cr2PtQcTdqsNJJuWqhguAr5LKTDIXxxBp3QO4sGAAAAv4bW9vdgAAAGxtdmhkAAAAAAAAAAAAAAAAAAAD6AAAH5AAAQAAAQAAAAAAAAAAAAAAAAEAAAAAAAAAAAAAAAAAAAABAAAAAAAAAAAAAAAAAABAAAAAAAAAAAAAAAAAAAAAAAAAAAAAAAAAAAAAAAAAAgAACyJ0cmFrAAAAXHRraGQAAAADAAAAAAAAAAAAAAABAAAAAAAAH5AAAAAAAAAAAAAAAAAAAAAAAAEAAAAAAAAAAAAAAAAAAAABAAAAAAAAAAAAAAAAAABAAAAAARAAAAEQAAAAAAAkZWR0cwAAABxlbHN0AAAAAAAAAAEAAB+QAAAEAAABAAAAAAqabWRpYQAAACBtZGhkAAAAAAAAAAAAAAAAAAAyAAABlABVxAAAAAAALWhkbHIAAAAAAAAAAHZpZGUAAAAAAAAAAAAAAABWaWRlb0hhbmRsZXIAAAAKRW1pbmYAAAAUdm1oZAAAAAEAAAAAAAAAAAAAACRkaW5mAAAAHGRyZWYAAAAAAAAAAQAAAAx1cmwgAAAAAQAACgVzdGJsAAAAlXN0c2QAAAAAAAAAAQAAAIVhdmMxAAAAAAAAAAEAAAAAAAAAAAAAAAAAAAAAARABEABIAAAASAAAAAAAAAABAAAAAAAAAAAAAAAAAAAAAAAAAAAAAAAAAAAAAAAAAAAAGP//AAAAL2F2Y0MB9AAN/+EAF2f0AA2RmygiEdCAAAADAIAAABkHihTLAQAFaOvjxEgAAAAYc3R0cwAAAAAAAAABAAAAygAAAgAAAAAUc3RzcwAAAAAAAAABAAAAAQAABdBjdHRzAAAAAAAAALgAAAABAAAEAAAAAAEAAAoAAAAAAQAABAAAAAABAAAAAAAAAAEAAAIAAAAAAQAACAAAAAACAAACAAAAAAMAAAQAAAAAAQAABgAAAAABAAACAAAAAAEAAAYAAAAAAQAAAgAAAAABAAAEAAAAAAEAAAYAAAAAAQAAAgAAAAABAAAEAAAAAAEAAAYAAAAAAQAAAgAAAAABAAAEAAAAAAEAAAgAAAAAAgAAAgAAAAADAAAEAAAAAAEAAAoAAAAAAQAABAAAAAABAAAAAAAAAAEAAAIAAAAAAgAABAAAAAABAAAGAAAAAAEAAAIAAAAAAQAACAAAAAACAAACAAAAAAEAAAQAAAAAAQAABgAAAAABAAACAAAAAAIAAAQAAAAAAQAACgAAAAABAAAEAAAAAAEAAAAAAAAAAQAAAgAAAAABAAAEAAAAAAEAAAYAAAAAAQAAAgAAAAABAAAEAAAAAAEAAAYAAAAAAQAAAgAAAAAEAAAEAAAAAAEAAAoAAAAAAQAABAAAAAABAAAAAAAAAAEAAAIAAAAAAQAABgAAAAABAAACAAAAAAIAAAQAAAAAAQAABgAAAAABAAACAAAAAAEAAAQAAAAAAQAABgAAAAABAAACAAAAAAIAAAQAAAAAAQAABgAAAAABAAACAAAAAAEAAAYAAAAAAQAAAgAAAAABAAAIAAAAAAIAAAIAAAAAAgAABAAAAAABAAAKAAAAAAEAAAQAAAAAAQAAAAAAAAABAAACAAAAAAEAAAQAAAAAAQAABgAAAAABAAACAAAAAAEAAAQAAAAAAQAABgAAAAABAAACAAAAAAEAAAQAAAAAAQAACgAAAAABAAAEAAAAAAEAAAAAAAAAAQAAAgAAAAACAAAEAAAAAAEAAAYAAAAAAQAAAgAAAAABAAAKAAAAAAEAAAQAAAAAAQAAAAAAAAABAAACAAAAAAEAAAQAAAAAAQAABgAAAAABAAACAAAAAAEAAAQAAAAAAQAABgAAAAABAAACAAAAAAEAAAYAAAAAAQAAAgAAAAABAAAEAAAAAAEAAAYAAAAAAQAAAgAAAAABAAAKAAAAAAEAAAQAAAAAAQAAAAAAAAABAAACAAAAAAEAAAoAAAAAAQAABAAAAAABAAAAAAAAAAEAAAIAAAAAAQAABgAAAAABAAACAAAAAAEAAAoAAAAAAQAABAAAAAABAAAAAAAAAAEAAAIAAAAAAQAACgAAAAABAAAEAAAAAAEAAAAAAAAAAQAAAgAAAAABAAAKAAAAAAEAAAQAAAAAAQAAAAAAAAABAAACAAAAAAEAAAoAAAAAAQAABAAAAAABAAAAAAAAAAEAAAIAAAAAAQAABAAAAAABAAAIAAAAAAIAAAIAAAAAAQAACgAAAAABAAAEAAAAAAEAAAAAAAAAAQAAAgAAAAABAAAKAAAAAAEAAAQAAAAAAQAAAAAAAAABAAACAAAAAAEAAAoAAAAAAQAABAAAAAABAAAAAAAAAAEAAAIAAAAAAQAACgAAAAABAAAEAAAAAAEAAAAAAAAAAQAAAgAAAAABAAAKAAAAAAEAAAQAAAAAAQAAAAAAAAABAAACAAAAAAEAAAoAAAAAAQAABAAAAAABAAAAAAAAAAEAAAIAAAAAAQAACgAAAAABAAAEAAAAAAEAAAAAAAAAAQAAAgAAAAABAAAKAAAAAAEAAAQAAAAAAQAAAAAAAAABAAACAAAAAAEAAAoAAAAAAQAABAAAAAABAAAAAAAAAAEAAAIAAAAAAQAACgAAAAABAAAEAAAAAAEAAAAAAAAAAQAAAgAAAAABAAAKAAAAAAEAAAQAAAAAAQAAAAAAAAABAAACAAAAAAEAAAoAAAAAAQAABAAAAAABAAAAAAAAAAEAAAIAAAAAAQAACgAAAAABAAAEAAAAAAEAAAAAAAAAAQAAAgAAAAABAAAKAAAAAAEAAAQAAAAAAQAAAAAAAAABAAACAAAAABxzdHNjAAAAAAAAAAEAAAABAAAAygAAAAEAAAM8c3RzegAAAAAAAAAAAAAAygAABZEAAAAfAAAAEwAAABQAAAATAAAAHQAAABMAAAARAAAAHQAAABwAAAAcAAAAIQAAABQAAAAsAAAAFAAAAB0AAAAiAAAAFAAAAB0AAAAiAAAAFAAAAB0AAAAkAAAAFgAAABQAAAAdAAAAHAAAAB0AAAAeAAAAGgAAABQAAAAUAAAAIAAAAB0AAAAjAAAAFAAAACsAAAAWAAAAFAAAAB4AAAAjAAAAFAAAAB0AAAAcAAAAJwAAABoAAAATAAAAFAAAAB4AAAAhAAAAFAAAABwAAAAhAAAAFAAAABwAAAAcAAAAHwAAAB0AAAAfAAAAFAAAABQAAAAUAAAAIAAAABQAAAAcAAAAHQAAACIAAAAUAAAAHQAAACEAAAAUAAAAHQAAAB0AAAAiAAAAFAAAACEAAAAUAAAAHAAAABYAAAASAAAAHgAAABwAAAAmAAAAGQAAABQAAAAUAAAAHgAAACoAAAAUAAAAHAAAACEAAAAUAAAAHAAAADQAAAAVAAAAEwAAABQAAAAdAAAAHwAAACMAAAAUAAAAHgAAABUAAAATAAAAFAAAAB4AAAAiAAAAFAAAABwAAAAhAAAAFAAAACAAAAAUAAAAHQAAACEAAAATAAAAFgAAABcAAAAUAAAAFAAAABcAAAAUAAAAFAAAABQAAAAhAAAAFAAAABYAAAAXAAAAFAAAABQAAAAdAAAAFAAAABMAAAAUAAAAHQAAABQAAAAUAAAAEwAAACAAAAAWAAAAFAAAABQAAAAeAAAAHAAAABMAAAARAAAAFwAAABcAAAAUAAAAFAAAACAAAAAUAAAAFAAAABMAAAAXAAAAFQAAABQAAAAUAAAAFwAAABAAAAAUAAAAFAAAABcAAAAQAAAAFAAAABQAAAAgAAAAFAAAABMAAAAUAAAAFwAAABQAAAAUAAAAFAAAABcAAAAUAAAAFAAAABQAAAAdAAAAFAAAABQAAAATAAAAFwAAABUAAAAUAAAAFAAAABcAAAAQAAAAFAAAABMAAAAWAAAAGAAAABQAAAAUAAAAHQAAABQAAAATAAAAFAAAAB4AAAApAAAAFAAAACgAAAAUc3RjbwAAAAAAAAABAAAAMAAAAGJ1ZHRhAAAAWm1ldGEAAAAAAAAAIWhkbHIAAAAAAAAAAG1kaXJhcHBsAAAAAAAAAAAAAAAALWlsc3QAAAAlqXRvbwAAAB1kYXRhAAAAAQAAAABMYXZmNTcuODMuMTAw\" type=\"video/mp4\" />\n",
       "             </video>"
      ],
      "text/plain": [
       "<IPython.core.display.HTML object>"
      ]
     },
     "execution_count": 19,
     "metadata": {},
     "output_type": "execute_result"
    }
   ],
   "source": [
    "# Training\n",
    "epochs_train = 100\n",
    "env = EnvironmentExploring(grid_size=size, max_time=T, temperature=0.3)\n",
    "agent = DQN_CNN(size, lr=.005, epsilon=0.4, memory_size=3000, batch_size=64, n_state=3)\n",
    "train_explore(agent, env, epochs_train, decrease_factor=0.95, prefix='cnn_train_explore', verbose=5)\n",
    "HTML(display_videos(f\"cnn_train_explore{epochs_train}.mp4\"))"
   ]
  },
  {
   "cell_type": "code",
   "execution_count": 20,
   "metadata": {},
   "outputs": [
    {
     "name": "stdout",
     "output_type": "stream",
     "text": [
      "Win/lose count 9.5/3.0. Average score (7.8)\n",
      "Win/lose count 16.5/3.0. Average score (10.9)\n",
      "Win/lose count 16.0/0. Average score (10.833333333333334)\n",
      "Win/lose count 2.5/0. Average score (9.15)\n",
      "Win/lose count 20.0/1.0. Average score (9.1)\n",
      "Win/lose count 2.5/0. Average score (8.5)\n",
      "Win/lose count 5.5/2.0. Average score (8.0)\n",
      "Win/lose count 2.0/0. Average score (7.7125)\n",
      "Final score: 7.7125\n"
     ]
    },
    {
     "data": {
      "text/html": [
       "<video alt=\"test\" controls>\n",
       "                <source src=\"data:video/mp4;base64,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\" type=\"video/mp4\" />\n",
       "             </video>"
      ],
      "text/plain": [
       "<IPython.core.display.HTML object>"
      ]
     },
     "execution_count": 20,
     "metadata": {},
     "output_type": "execute_result"
    }
   ],
   "source": [
    "# Evaluation\n",
    "test(agent, env, epochs_test, prefix='cnn_test_explore', verbose=5)\n",
    "HTML(display_videos(f'cnn_test_explore{epochs_test}.mp4'))"
   ]
  }
 ],
 "metadata": {
  "kernelspec": {
   "display_name": "Python 3",
   "language": "python",
   "name": "python3"
  },
  "language_info": {
   "codemirror_mode": {
    "name": "ipython",
    "version": 3
   },
   "file_extension": ".py",
   "mimetype": "text/x-python",
   "name": "python",
   "nbconvert_exporter": "python",
   "pygments_lexer": "ipython3",
   "version": "3.7.4"
  }
 },
 "nbformat": 4,
 "nbformat_minor": 2
}
